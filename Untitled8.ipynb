{
 "cells": [
  {
   "cell_type": "code",
   "execution_count": 1,
   "id": "6c072906-6ed5-4701-a1fe-b0689b21017d",
   "metadata": {},
   "outputs": [],
   "source": [
    "def calculate_age(age,unit):\n",
    " if unit.lower()=='month' or unit.lower()=='m':\n",
    "  return age*12\n",
    " elif unit.lower()=='week' or unit.lower()=='w':\n",
    "  return age*52\n",
    " elif unit.lower()=='days' or unit.lower()=='d':\n",
    "  return age*365\n",
    " elif unit.lower()=='hours' or unit.lower()=='h':\n",
    "  return age*365*24\n",
    " elif unit.lower()=='minutes' or unit.lower()=='min':\n",
    "  return age*365*24*60\n",
    " elif unit.lower()=='seconds' or unit.lower()=='s':\n",
    "  return age*365*24*60*60\n",
    " else:\n",
    "  return\"invalid time unit!\"\n",
    "    "
   ]
  },
  {
   "cell_type": "code",
   "execution_count": 2,
   "id": "7f2756ab-1403-480e-a7b8-3d1d255f3b01",
   "metadata": {},
   "outputs": [
    {
     "name": "stdin",
     "output_type": "stream",
     "text": [
      "whats your age? 15\n",
      "please choose time unit: Month,week,days,hours,minutes,seconds. h\n"
     ]
    },
    {
     "name": "stdout",
     "output_type": "stream",
     "text": [
      "you lived for 131400 h\n"
     ]
    }
   ],
   "source": [
    "age = int(input(\"whats your age?\"))\n",
    "unit = input(\"please choose time unit: Month,week,days,hours,minutes,seconds.\")\n",
    "while unit.lower() not in ['month','week','days','hours','minutes','seconds','m','w','d','h','min','s']:\n",
    "  print(\"invalid time unit. plesae choose from month,week,days,hours,minutes,seconds.\")\n",
    "  unit = input(\"please choose time unit:\")\n",
    "\n",
    "result = calculate_age(age,unit)\n",
    "print(\"you lived for\",result,unit)"
   ]
  },
  {
   "cell_type": "code",
   "execution_count": null,
   "id": "3af4d1e6-b8eb-4536-9f74-4a7a240787e8",
   "metadata": {},
   "outputs": [],
   "source": []
  }
 ],
 "metadata": {
  "kernelspec": {
   "display_name": "Python 3 (ipykernel)",
   "language": "python",
   "name": "python3"
  },
  "language_info": {
   "codemirror_mode": {
    "name": "ipython",
    "version": 3
   },
   "file_extension": ".py",
   "mimetype": "text/x-python",
   "name": "python",
   "nbconvert_exporter": "python",
   "pygments_lexer": "ipython3",
   "version": "3.11.7"
  }
 },
 "nbformat": 4,
 "nbformat_minor": 5
}
